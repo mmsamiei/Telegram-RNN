{
 "cells": [
  {
   "cell_type": "code",
   "execution_count": 1,
   "metadata": {},
   "outputs": [],
   "source": [
    "import json\n",
    "with open('./data/result.json') as json_data:\n",
    "    data = json.load(json_data)"
   ]
  },
  {
   "cell_type": "code",
   "execution_count": 8,
   "metadata": {},
   "outputs": [
    {
     "data": {
      "text/plain": [
       "dict_keys(['about', 'chats', 'left_chats'])"
      ]
     },
     "execution_count": 8,
     "metadata": {},
     "output_type": "execute_result"
    }
   ],
   "source": [
    "data.keys()"
   ]
  },
  {
   "cell_type": "code",
   "execution_count": 9,
   "metadata": {},
   "outputs": [],
   "source": [
    "chats = data['chats']['list']"
   ]
  },
  {
   "cell_type": "code",
   "execution_count": 10,
   "metadata": {},
   "outputs": [
    {
     "data": {
      "text/plain": [
       "67"
      ]
     },
     "execution_count": 10,
     "metadata": {},
     "output_type": "execute_result"
    }
   ],
   "source": [
    "len(chats)"
   ]
  },
  {
   "cell_type": "code",
   "execution_count": 16,
   "metadata": {},
   "outputs": [],
   "source": [
    "temp = [chat['messages'] for chat in chats]\n",
    "messages = list()\n",
    "for sublist in temp:\n",
    "    for item in sublist:\n",
    "        messages.append(item)"
   ]
  },
  {
   "cell_type": "code",
   "execution_count": 17,
   "metadata": {},
   "outputs": [
    {
     "data": {
      "text/plain": [
       "41874"
      ]
     },
     "execution_count": 17,
     "metadata": {},
     "output_type": "execute_result"
    }
   ],
   "source": [
    "len(messages)"
   ]
  },
  {
   "cell_type": "code",
   "execution_count": 21,
   "metadata": {},
   "outputs": [
    {
     "data": {
      "text/plain": [
       "{'id': 11570,\n",
       " 'type': 'message',\n",
       " 'date': '2018-12-14T22:45:46',\n",
       " 'edited': '1970-01-01T03:30:00',\n",
       " 'from': 'Mahdi Samiei',\n",
       " 'from_id': 679218067,\n",
       " 'text': 'آقای حبیبی'}"
      ]
     },
     "execution_count": 21,
     "metadata": {},
     "output_type": "execute_result"
    }
   ],
   "source": [
    "messages[0]"
   ]
  },
  {
   "cell_type": "code",
   "execution_count": 23,
   "metadata": {},
   "outputs": [],
   "source": [
    "messages = [message for message in messages if 'from'  in message ]"
   ]
  },
  {
   "cell_type": "code",
   "execution_count": 24,
   "metadata": {},
   "outputs": [
    {
     "data": {
      "text/plain": [
       "41861"
      ]
     },
     "execution_count": 24,
     "metadata": {},
     "output_type": "execute_result"
    }
   ],
   "source": [
    "len(messages)"
   ]
  },
  {
   "cell_type": "code",
   "execution_count": 27,
   "metadata": {},
   "outputs": [],
   "source": [
    "mahdi_messages = [message for message in messages if message['from']=='Mahdi Samiei']"
   ]
  },
  {
   "cell_type": "code",
   "execution_count": 28,
   "metadata": {},
   "outputs": [
    {
     "data": {
      "text/plain": [
       "24643"
      ]
     },
     "execution_count": 28,
     "metadata": {},
     "output_type": "execute_result"
    }
   ],
   "source": [
    "len(mahdi_messages)"
   ]
  },
  {
   "cell_type": "code",
   "execution_count": 29,
   "metadata": {},
   "outputs": [
    {
     "data": {
      "text/plain": [
       "{'id': 21855,\n",
       " 'type': 'message',\n",
       " 'date': '2019-01-11T00:21:09',\n",
       " 'edited': '1970-01-01T03:30:00',\n",
       " 'from': 'Mahdi Samiei',\n",
       " 'from_id': 679218067,\n",
       " 'text': 'چون میبینه ته ماجرا که میگفتن اگه شریف باشه زیاد جای خوبی نیست :)'}"
      ]
     },
     "execution_count": 29,
     "metadata": {},
     "output_type": "execute_result"
    }
   ],
   "source": [
    "mahdi_messages[-1]"
   ]
  },
  {
   "cell_type": "code",
   "execution_count": 30,
   "metadata": {},
   "outputs": [],
   "source": [
    "mahdi_text_messages = [message['text'] for message in mahdi_messages if 'forwarded_from' not in message.keys() and type(message['text']) is str]"
   ]
  },
  {
   "cell_type": "code",
   "execution_count": 77,
   "metadata": {},
   "outputs": [
    {
     "data": {
      "text/plain": [
       "'آقای حبیبی'"
      ]
     },
     "execution_count": 77,
     "metadata": {},
     "output_type": "execute_result"
    }
   ],
   "source": [
    "mahdi_text_messages[0]"
   ]
  },
  {
   "cell_type": "code",
   "execution_count": 78,
   "metadata": {},
   "outputs": [],
   "source": [
    "between_25_50_lens = [x for x in mahdi_text_messages if len(x) < 50 and len(x)>25]"
   ]
  },
  {
   "cell_type": "code",
   "execution_count": 80,
   "metadata": {},
   "outputs": [
    {
     "data": {
      "text/plain": [
       "['فردا روز حساسیه آقای حبیبی',\n",
       " 'باید برم با مدیرگروهمون صحبت کنم',\n",
       " 'بگم بهش من معدلم ۱۸ عه از امیرکبیر اومدم',\n",
       " 'لرنینگ میخواستم کار کنم استاداتون نذاشتن',\n",
       " 'از ترم بعد با سهمیه این استادای لرنینگتون کار کنم',\n",
       " 'ولی دانیال میگه نمره سمینارت کم میشه',\n",
       " 'ولی اگه میشد این کار رو میکردم',\n",
       " 'هم اینه که میرفتم دنبال خوندن زبان',\n",
       " 'ما ی فامیل داشتیم اپلای کرد رفت سوئد',\n",
       " 'شما جای گرم دور و برتون ندارین؟']"
      ]
     },
     "execution_count": 80,
     "metadata": {},
     "output_type": "execute_result"
    }
   ],
   "source": [
    "between_25_50_lens[:10]"
   ]
  },
  {
   "cell_type": "code",
   "execution_count": 81,
   "metadata": {},
   "outputs": [],
   "source": [
    "with open('strings.txt', 'w') as f:\n",
    "    for item in between_25_50_lens:\n",
    "        f.write(\"%s\\n\" % item)"
   ]
  }
 ],
 "metadata": {
  "kernelspec": {
   "display_name": "Python 3",
   "language": "python",
   "name": "python3"
  },
  "language_info": {
   "codemirror_mode": {
    "name": "ipython",
    "version": 3
   },
   "file_extension": ".py",
   "mimetype": "text/x-python",
   "name": "python",
   "nbconvert_exporter": "python",
   "pygments_lexer": "ipython3",
   "version": "3.6.7"
  }
 },
 "nbformat": 4,
 "nbformat_minor": 2
}
